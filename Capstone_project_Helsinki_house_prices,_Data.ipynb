{
  "nbformat": 4,
  "nbformat_minor": 0,
  "metadata": {
    "kernelspec": {
      "display_name": "Python 3",
      "language": "python",
      "name": "python3"
    },
    "language_info": {
      "codemirror_mode": {
        "name": "ipython",
        "version": 3
      },
      "file_extension": ".py",
      "mimetype": "text/x-python",
      "name": "python",
      "nbconvert_exporter": "python",
      "pygments_lexer": "ipython3",
      "version": "3.8.5"
    },
    "colab": {
      "name": "Capstone project: Helsinki house prices, Data.ipynb",
      "provenance": [],
      "collapsed_sections": [
        "dGraTUA9uOq6",
        "YZMam_g0uOq-",
        "BfgaKsYDuOrJ",
        "ZaQuDC7euOrL",
        "lcIM9npuuOrM",
        "l0W0jCr-uOrM",
        "SgDVmlh3uOrN",
        "p66YJIz5uOrO",
        "NzlBhr0suOrO",
        "341qnjM5uOrd"
      ],
      "include_colab_link": true
    }
  },
  "cells": [
    {
      "cell_type": "markdown",
      "metadata": {
        "id": "view-in-github",
        "colab_type": "text"
      },
      "source": [
        "<a href=\"https://colab.research.google.com/github/Madfuuu/Coursera_Capstone/blob/main/Capstone_project_Helsinki_house_prices%2C_Data.ipynb\" target=\"_parent\"><img src=\"https://colab.research.google.com/assets/colab-badge.svg\" alt=\"Open In Colab\"/></a>"
      ]
    },
    {
      "cell_type": "markdown",
      "metadata": {
        "id": "56RvrbvpuOqw"
      },
      "source": [
        "# Capstone project, Helsinki house prices"
      ]
    },
    {
      "cell_type": "markdown",
      "metadata": {
        "id": "WWEU0tuquOqy"
      },
      "source": [
        "### In this workbook we will explore the housing prices according to different postal code areas in the Greater Helsinki area. Then we will try to figure out what variables have the biggest affect for high housing prices. We will NOT study about the actual house or property qualitites, but strictly focus on external factors like location and distance to venues. \n",
        "#### We will use free for use data which can be retrieved from Finnish government provided www.hri.fi  and www.stat.fi websites. In this book we will use Foursquare, folium choropleth maps, lots of Pandas and geoPandas dataframes and also get used to retrieving and cleaning data from .csv files. \n",
        "\n",
        "### The process\n",
        "\n",
        "1. Download and import necessary libraries\n",
        "  *   Usual libraries: Numpy, Pandas, Plotly, seaborn, json, matplotlib\n",
        "  *   For maps: Folium, Geopandas \\\n",
        "\n",
        "2. Retrieve, clean and combine needed data\n",
        "  *   Greater Helsinki old housing sales/price data from 2010 to 2020\n",
        "     * https://tilastokeskus.fi/til/ashi/index.html \n",
        "  *   Postal area demographic data (Paavo database)\n",
        "     * https://pxnet2.stat.fi/PXWeb/pxweb/fi/Postinumeroalueittainen_avoin_tieto\n",
        "  *   Public transportation data (HSL), areas, terminals \n",
        "     * https://hri.fi/data/en_GB/dataset/hsl-n-terminaalit\n",
        "     * https://hri.fi/data/en_GB/dataset/hsl-n-taksavyohykkeet\n",
        "\n",
        "3. Use Foursquare API to retrieve further data for our analysis \\\n",
        "4.   a. Cluster the foursquare data \\\n",
        "     b. Exploratory data analysis, housing price and postal code area data \\\n",
        "\n",
        "5. Choropleth map that displays the main findings of the project"
      ]
    }
  ]
}