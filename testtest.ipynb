![](Choropleth map.gif)
gifsicle -b Choropleth map.gif -O3 -o your_out.gif
