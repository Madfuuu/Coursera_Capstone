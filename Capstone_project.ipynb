#This notebook is for IBM Data Science Capstone project that finishes the 9 course data science package
import pandas as pd
import Numpy as np
print("Hello Capstone Project Course!")
